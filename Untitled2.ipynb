{
  "nbformat": 4,
  "nbformat_minor": 0,
  "metadata": {
    "colab": {
      "name": "Untitled2.ipynb",
      "provenance": [],
      "authorship_tag": "ABX9TyM/vk2WPO7gDHnBR+Gfooea",
      "include_colab_link": true
    },
    "kernelspec": {
      "name": "python3",
      "display_name": "Python 3"
    },
    "language_info": {
      "name": "python"
    }
  },
  "cells": [
    {
      "cell_type": "markdown",
      "metadata": {
        "id": "view-in-github",
        "colab_type": "text"
      },
      "source": [
        "<a href=\"https://colab.research.google.com/github/Yulian-21/labpy2/blob/master/Untitled2.ipynb\" target=\"_parent\"><img src=\"https://colab.research.google.com/assets/colab-badge.svg\" alt=\"Open In Colab\"/></a>"
      ]
    },
    {
      "cell_type": "code",
      "metadata": {
        "colab": {
          "base_uri": "https://localhost:8080/"
        },
        "id": "wenqSPJTe6Td",
        "outputId": "6d3907e8-3180-4822-cd88-2d8d3c6e68a8"
      },
      "source": [
        "import numpy as np\n",
        "from numpy import random, dot\n",
        "from itertools import starmap\n",
        "from operator import mul\n",
        "\n",
        "\n",
        "random.seed(1)\n",
        "\n",
        "mat1 = random.randint(1,9,size=(5,5))\n",
        "mat2 = random.randint(1,9,size=(5,5))\n",
        "vector = random.randint(0,2,size=(1,5))\n",
        "print('matrix 1: \\n',mat1)\n",
        "print('matrix 2: \\n',mat2)\n",
        "print('vector: \\n',vector)\n",
        "print('Numpy functions:\\n')\n",
        "mat_res = dot(mat1,mat2)\n",
        "print('multiplication (matrix x matrix) function result: \\n', mat_res)\n",
        "print('transponated result: \\n', mat_res.T)\n",
        "vec_res = dot(vector,mat1)\n",
        "print('multiplication (vector x matix) function result: \\n', vec_res)\n",
        "print('NO Numpy functions:\\n')\n",
        "nnp_res = [[sum(starmap(mul,zip(row, col))) for col in zip(*mat2)] for row in mat1]\n",
        "print('multiplication (matrix x matrix) function result:\\n', nnp_res)\n",
        "\n",
        "nnp_vec_res  = [[sum(starmap(mul,zip(row, col))) for col in zip(*mat1)] for row in vector]\n",
        "print('multiplication (vector x matrix) function result:\\n', nnp_vec_res)\n",
        "\n",
        "\n",
        "\n"
      ],
      "execution_count": 1,
      "outputs": [
        {
          "output_type": "stream",
          "name": "stdout",
          "text": [
            "matrix 1: \n",
            " [[6 4 5 1 8]\n",
            " [2 4 6 8 1]\n",
            " [1 2 5 8 6]\n",
            " [5 7 2 3 5]\n",
            " [7 6 3 5 4]]\n",
            "matrix 2: \n",
            " [[5 3 5 6 7]\n",
            " [3 5 8 8 2]\n",
            " [2 8 7 1 7]\n",
            " [6 2 2 8 8]\n",
            " [6 7 2 2 1]]\n",
            "vector: \n",
            " [[0 1 0 0 1]]\n",
            "Numpy functions:\n",
            "\n",
            "multiplication (matrix x matrix) function result: \n",
            " [[106 136 115  97 101]\n",
            " [ 88  97 102 116 129]\n",
            " [105 111  84 103 116]\n",
            " [ 98 107 111 122  92]\n",
            " [113 113 122 141 126]]\n",
            "transponated result: \n",
            " [[106  88 105  98 113]\n",
            " [136  97 111 107 113]\n",
            " [115 102  84 111 122]\n",
            " [ 97 116 103 122 141]\n",
            " [101 129 116  92 126]]\n",
            "multiplication (vector x matix) function result: \n",
            " [[ 9 10  9 13  5]]\n",
            "NO Numpy functions:\n",
            "\n",
            "multiplication (matrix x matrix) function result:\n",
            " [[106, 136, 115, 97, 101], [88, 97, 102, 116, 129], [105, 111, 84, 103, 116], [98, 107, 111, 122, 92], [113, 113, 122, 141, 126]]\n",
            "multiplication (vector x matrix) function result:\n",
            " [[9, 10, 9, 13, 5]]\n"
          ]
        }
      ]
    }
  ]
}